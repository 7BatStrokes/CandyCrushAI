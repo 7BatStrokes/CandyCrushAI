{
 "cells": [
  {
   "cell_type": "code",
   "execution_count": 18,
   "id": "c7e91bbf",
   "metadata": {},
   "outputs": [],
   "source": [
    "from pynput import *\n",
    "from PIL import Image, ImageGrab\n",
    "import time\n",
    "import cv2\n",
    "import numpy as np\n",
    "import win32api\n",
    "import win32.lib.win32con as win32con\n",
    "from IPython.display import IFrame\n",
    "\n",
    "url = \"https://www.cooljuegos.com/embed/candy-crush/\"\n",
    "bbox= [267, 100, 1860, 1504]\n",
    "ax_x= (bbox[2]-bbox[0])//8\n",
    "ax_y= (bbox[3]-bbox[1])//8\n",
    "\n",
    "def mousecoords():\n",
    "    def getc(x, y):\n",
    "        time.sleep(5)\n",
    "        print(x, y)\n",
    "        \n",
    "    with mouse.Listener(on_move= getc, ) as listen:listen.join()\n",
    "        \n",
    "def DiffImages(im1, im2):\n",
    "    opencvImage1 = cv2.cvtColor(numpy.array(im1), cv2.COLOR_RGB2BGR)\n",
    "    img1 = cv2.cvtColor(opencvImage1, cv2.COLOR_BGR2GRAY)\n",
    "    opencvImage2 = cv2.cvtColor(numpy.array(im2), cv2.COLOR_RGB2BGR)\n",
    "    img2 = cv2.cvtColor(opencvImage2, cv2.COLOR_BGR2GRAY)\n",
    "    diff = cv2.subtract(img1, img2)\n",
    "    err = np.sum(diff**2)\n",
    "    mse = err/(float(img1.shape[0]*img1.shape[1]))\n",
    "    \n",
    "    return(100-mse)\n",
    "\n",
    "def ScreenShotBoard():\n",
    "    time.sleep(4)\n",
    "    im2 = ImageGrab.grab(bbox =(bbox), all_screens=True)\n",
    "    #im2.save(\"end_screen.jpg\")\n",
    "    #(1215/9= 135, 952/8= 119)\n",
    "    im2.show()\n",
    "    \n",
    "def win32_click(x, y):\n",
    "    win32api.SetCursorPos((x, y))\n",
    "    win32api.mouse_event(win32con.MOUSEEVENTF_LEFTDOWN, x, y, 0, 0)\n",
    "    win32api.mouse_event(win32con.MOUSEEVENTF_LEFTUP, x, y, 0, 0)\n",
    "\n",
    "def do_move():\n",
    "    start_w= (int(190/2.5), int(604/2.5))\n",
    "    end_w= (int(1405/2.5), int(1556/2.5))\n",
    "    win32api.SetCursorPos(start_w)\n",
    "    #win32api.mouse_event(win32con.MOUSEEVENTF_LEFTDOWN, start_w[0], start_w[1], 0, 0)\n",
    "    time.sleep(5)\n",
    "    win32api.SetCursorPos(end_w)"
   ]
  },
  {
   "cell_type": "code",
   "execution_count": 25,
   "id": "ce8b7147",
   "metadata": {},
   "outputs": [
    {
     "data": {
      "text/html": [
       "\n",
       "        <iframe\n",
       "            width=\"900\"\n",
       "            height=\"900\"\n",
       "            src=\"https://www.cooljuegos.com/embed/candy-crush/\"\n",
       "            frameborder=\"0\"\n",
       "            allowfullscreen\n",
       "            \n",
       "        ></iframe>\n",
       "        "
      ],
      "text/plain": [
       "<IPython.lib.display.IFrame at 0x12785c6aa50>"
      ]
     },
     "execution_count": 25,
     "metadata": {},
     "output_type": "execute_result"
    }
   ],
   "source": [
    "IFrame(url, width=900, height=900)"
   ]
  },
  {
   "cell_type": "code",
   "execution_count": null,
   "id": "b3110134",
   "metadata": {},
   "outputs": [
    {
     "name": "stdout",
     "output_type": "stream",
     "text": [
      "275 125\n",
      "264 99\n",
      "264 104\n",
      "1441 1182\n",
      "1851 1504\n",
      "1851 1506\n",
      "1859 1481\n",
      "2232 273\n"
     ]
    }
   ],
   "source": [
    "mousecoords()"
   ]
  },
  {
   "cell_type": "code",
   "execution_count": 13,
   "id": "8007084a",
   "metadata": {},
   "outputs": [
    {
     "name": "stdout",
     "output_type": "stream",
     "text": [
      "1593 1404\n",
      "0 0\n"
     ]
    }
   ],
   "source": [
    "print(1860-267, 1504-100)\n",
    "print(1593%9, 1404%9)\n",
    "267, 100, 1860, 1504"
   ]
  },
  {
   "cell_type": "code",
   "execution_count": 19,
   "id": "5cbe0e32",
   "metadata": {},
   "outputs": [],
   "source": [
    "ScreenShotBoard()"
   ]
  },
  {
   "cell_type": "code",
   "execution_count": 10,
   "id": "45a44f14",
   "metadata": {},
   "outputs": [],
   "source": []
  },
  {
   "cell_type": "code",
   "execution_count": null,
   "id": "da76f4ab",
   "metadata": {},
   "outputs": [],
   "source": [
    "#(98.35490216201423 / 99.74724256762596 GLOW) \n",
    "#(99.94226586581397 / 99.81673562498299.816735624982 SAME)\n",
    "#(90.6852935139573 / 90.31595061648373 DIFF DOWN)\n",
    "#(99.6213288249359 / 98.56449673033157 DIFF UP)\n",
    "print(DiffImages(\"testing1.jpg\", \"testing2.jpg\"))"
   ]
  },
  {
   "cell_type": "code",
   "execution_count": null,
   "id": "cdc43665",
   "metadata": {},
   "outputs": [],
   "source": [
    "global mo\n",
    "\n",
    "mo= 1\n",
    "print(mo)\n",
    "mo= 2\n",
    "print(mo)\n",
    "\n",
    "def c():\n",
    "    print(\"Hi\", mo)\n",
    "c()"
   ]
  },
  {
   "cell_type": "code",
   "execution_count": null,
   "id": "f0ec683e",
   "metadata": {},
   "outputs": [],
   "source": [
    "import pyautogui\n",
    "\n",
    "print(tuple(pyautogui.position()))"
   ]
  },
  {
   "cell_type": "code",
   "execution_count": null,
   "id": "bdd507ba",
   "metadata": {},
   "outputs": [],
   "source": []
  }
 ],
 "metadata": {
  "kernelspec": {
   "display_name": "Python 3 (ipykernel)",
   "language": "python",
   "name": "python3"
  },
  "language_info": {
   "codemirror_mode": {
    "name": "ipython",
    "version": 3
   },
   "file_extension": ".py",
   "mimetype": "text/x-python",
   "name": "python",
   "nbconvert_exporter": "python",
   "pygments_lexer": "ipython3",
   "version": "3.11.4"
  }
 },
 "nbformat": 4,
 "nbformat_minor": 5
}
