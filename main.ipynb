{
 "cells": [
  {
   "cell_type": "code",
   "execution_count": 6,
   "id": "7469c219",
   "metadata": {},
   "outputs": [],
   "source": [
    "from PIL import Image, ImageGrab\n",
    "from IPython.display import IFrame\n",
    "import win32api\n",
    "import numpy as np\n",
    "from itertools import product\n",
    "import time\n",
    "import cv2\n",
    "import win32.lib.win32con as win32con\n",
    "\n",
    "%run CandyRecognition.ipynb\n",
    "%run Solver.ipynb\n",
    "cand_rec= CandyRecog()\n",
    "cand_rec.train()\n",
    "solv= Solver()"
   ]
  },
  {
   "cell_type": "code",
   "execution_count": 7,
   "id": "453c61fa",
   "metadata": {},
   "outputs": [],
   "source": [
    "url = \"https://www.cooljuegos.com/juego-en-linea/candy-crush/\"\n",
    "game_board = np.zeros((9, 9), dtype=np.int32)\n",
    "\n",
    "bbox= [267, 100, 1860, 1504]\n",
    "ax_x= (bbox[2]-bbox[0])//9\n",
    "ax_y= (bbox[3]-bbox[1])//9\n",
    "\n",
    "match_list = [(0, 1, 13, 19), (2, 3, 14, 20), (4, 5, 15, 21), (6, 7, 18, 22), (8, 9, 16, 23), (10, 11, 17, 24)]\n",
    "special_candies = [1, 3, 5, 7, 9, 11, 12, 13, 14, 15, 16, 17, 18, 19, 20, 21, 22, 23, 24]\n",
    "simple_candies = [0, 2, 4, 6, 8, 10]\n",
    "striped_candies_h = [1, 3, 5, 7, 9, 11]\n",
    "striped_candies_v = range(13, 19)\n",
    "striped_candies = striped_candies_h[:]\n",
    "striped_candies.extend(striped_candies_v)\n",
    "wrapped_candies = range(19, 25)\n",
    "chocolate = [12]\n",
    "\n",
    "board_dict = {0: 'blue       ', 1: 's_h_blue   ', 2: 'green      ', 3: 's_h_green  ', 4: 'orange     ', 5: 's_h_orange ',\n",
    "              6: 'purple     ', 7: 's_h_purple ', 8: 'red        ', 9: 's_h_red    ', 10: 'yellow     ', 11: 's_h_yellow ',\n",
    "              12: 'chocolate  ', 13: 's_v_blue   ', 14: 's_v_green  ', 15: 's_v_orange ', 16: 's_v_red    ',\n",
    "              17: 's_v_yellow ', 18: 's_v_purple ', 19: 'blue_wrappe', 20: 'green_wrapp', 21: 'orange_wrap',\n",
    "              22: 'purple_wrap', 23: 'red_wrapped', 24: 'yellow_wrap', -1: 'empty     '}\n",
    "\n",
    "ref_img= None\n",
    "tsem= 0.05\n",
    "\n",
    "img_end_game = Image.open('end_screen.jpg')\n",
    "img_end_game = img_end_game.resize((int(img_end_game.size[0]/4), int(img_end_game.size[1]/4)), Image.NEAREST)"
   ]
  },
  {
   "cell_type": "code",
   "execution_count": 8,
   "id": "568e23f5",
   "metadata": {
    "scrolled": false
   },
   "outputs": [],
   "source": [
    "def get_desktop_coords(cell):\n",
    "    x = int((bbox[0] + cell[1] * ax_x + ax_x/2)/2.5)\n",
    "    y = int((bbox[1] + cell[0] * ax_y + ax_y/2)/2.5)\n",
    "    return x, y\n",
    "\n",
    "def do_move(move):\n",
    "    start, end = move\n",
    "    start_w = get_desktop_coords(start)\n",
    "    end_w = get_desktop_coords(end)\n",
    "    win32api.SetCursorPos(start_w)\n",
    "    win32api.mouse_event(win32con.MOUSEEVENTF_LEFTDOWN, start_w[0], start_w[1], 0, 0)\n",
    "    time.sleep(tsem)\n",
    "    win32api.SetCursorPos(end_w)\n",
    "    time.sleep(tsem)\n",
    "    win32api.mouse_event(win32con.MOUSEEVENTF_LEFTUP, end_w[0], end_w[1], 0, 0)\n",
    "\n",
    "def ScreenShotBoard():\n",
    "    im = ImageGrab.grab(bbox, all_screens=True)\n",
    "    #im.save(\"screen.jpg\")\n",
    "    #(1215/9= 135, 952/8= 119)\n",
    "    #im2= Image.open(\"screen.jpg\")\n",
    "    for y in range(9):\n",
    "        for x in range(9):\n",
    "            candy_box = (x*ax_x, y*ax_y, (x+1)*ax_x, (y+1)*ax_y)\n",
    "            candy = im.crop(candy_box)\n",
    "            #candy.save('Candies/{0}_{1}.bmp'.format(y, x))\n",
    "            resized_img = candy.resize((45, 45), Image.BILINEAR)\n",
    "            np_img = np.array(resized_img.getdata()).flatten()\n",
    "            game_board[y][x] = cand_rec.predict([np_img])\n",
    "    return(im)\n",
    "\n",
    "def print_board(board):\n",
    "    for line in board:\n",
    "        for elem in line:\n",
    "            print(board_dict[elem] + ' ',end= \"\")\n",
    "        print()\n",
    "\n",
    "def board_is_moving():\n",
    "    global ref_img\n",
    "    img = ImageGrab.grab()\n",
    "    img = img.crop(bbox)\n",
    "    has_movement = True\n",
    "    if ref_img:\n",
    "        has_movement = DiffImages(img, ref_img) < 95\n",
    "    ref_img = img\n",
    "    return (has_movement)\n",
    "\n",
    "def DiffImages(im1, im2):\n",
    "    opencvImage1 = cv2.cvtColor(np.array(im1), cv2.COLOR_RGB2BGR)\n",
    "    img1 = cv2.cvtColor(opencvImage1, cv2.COLOR_BGR2GRAY)\n",
    "    opencvImage2 = cv2.cvtColor(np.array(im2), cv2.COLOR_RGB2BGR)\n",
    "    img2 = cv2.cvtColor(opencvImage2, cv2.COLOR_BGR2GRAY)\n",
    "    diff = cv2.subtract(img1, img2)\n",
    "    err = np.sum(diff**2)\n",
    "    mse = err/(float(img1.shape[0]*img1.shape[1]))\n",
    "    \n",
    "    return(100-mse)"
   ]
  },
  {
   "cell_type": "code",
   "execution_count": 9,
   "id": "0753d38a",
   "metadata": {},
   "outputs": [],
   "source": [
    "def main():\n",
    "    time.sleep(1)\n",
    "    total_moves = 0\n",
    "    while True:\n",
    "        if not board_is_moving():\n",
    "            board_img = ScreenShotBoard()\n",
    "            board_img = board_img.resize((int(board_img.size[0]/4), int(board_img.size[1]/4)), Image.NEAREST)\n",
    "            if DiffImages(board_img, img_end_game)== 100:\n",
    "                break\n",
    "            move = solv.solve_board(game_board)\n",
    "            do_move(move)\n",
    "            total_moves += 1\n",
    "        time.sleep(tsem)\n",
    "    print('Total moves done: ' + str(total_moves))"
   ]
  },
  {
   "cell_type": "code",
   "execution_count": 12,
   "id": "c55bf935",
   "metadata": {},
   "outputs": [
    {
     "name": "stdout",
     "output_type": "stream",
     "text": [
      "Total moves done: 240\n"
     ]
    }
   ],
   "source": [
    "main()"
   ]
  },
  {
   "cell_type": "code",
   "execution_count": 8,
   "id": "3492dcf2",
   "metadata": {},
   "outputs": [
    {
     "data": {
      "text/html": [
       "\n",
       "        <iframe\n",
       "            width=\"900\"\n",
       "            height=\"900\"\n",
       "            src=\"https://www.cooljuegos.com/juego-en-linea/candy-crush/\"\n",
       "            frameborder=\"0\"\n",
       "            allowfullscreen\n",
       "            \n",
       "        ></iframe>\n",
       "        "
      ],
      "text/plain": [
       "<IPython.lib.display.IFrame at 0x1cbf6181910>"
      ]
     },
     "execution_count": 8,
     "metadata": {},
     "output_type": "execute_result"
    }
   ],
   "source": [
    "IFrame(url, width=900, height=900)"
   ]
  },
  {
   "cell_type": "code",
   "execution_count": null,
   "id": "a490641f",
   "metadata": {},
   "outputs": [],
   "source": [
    "'''\n",
    "tsem (timesleepmouse)\n",
    "tsep (timesleepprogram)\n",
    "\n",
    "\n",
    "tsem= 0.4 tsep= 0.7 [42820, 79600, 37510][1]\n",
    "tsem= 0.5 tsep= 0.8 [43150, 35600] [1,1 ]\n",
    "tsem= 0.2 tsep= 0.5 [, ] [, ]\n",
    "'''"
   ]
  }
 ],
 "metadata": {
  "kernelspec": {
   "display_name": "Python 3 (ipykernel)",
   "language": "python",
   "name": "python3"
  },
  "language_info": {
   "codemirror_mode": {
    "name": "ipython",
    "version": 3
   },
   "file_extension": ".py",
   "mimetype": "text/x-python",
   "name": "python",
   "nbconvert_exporter": "python",
   "pygments_lexer": "ipython3",
   "version": "3.11.4"
  }
 },
 "nbformat": 4,
 "nbformat_minor": 5
}
